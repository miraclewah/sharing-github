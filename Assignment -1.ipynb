{
 "cells": [
  {
   "cell_type": "markdown",
   "metadata": {},
   "source": [
    "1. Write a program which will find all such numbers which are divisible by 7 but are not a multiple of 5, between 2000 and 3200 (both included). The numbers obtained should be printed in a comma-separated sequence on a single line. "
   ]
  },
  {
   "cell_type": "code",
   "execution_count": 8,
   "metadata": {},
   "outputs": [
    {
     "name": "stdout",
     "output_type": "stream",
     "text": [
      "2828,2121,[2828, 2121]\n"
     ]
    }
   ],
   "source": [
    "#my test list is as below:\n",
    "list1 = [2000, 2100, 2828, 2121, 3300, 3400]\n",
    "def findmysolutions(a):\n",
    "    list2 =[]\n",
    "    for items in a:\n",
    "        if items %7 ==0 and items %5 !=0 and  items<3201 and  items>1999:\n",
    "            list2.append(items)\n",
    "    for item in list2:\n",
    "        print(str(item)+ ',', end='')\n",
    "    print(list2)\n",
    "\n",
    "findmysolutions(list1)"
   ]
  },
  {
   "cell_type": "markdown",
   "metadata": {},
   "source": [
    "2. Write a Python program to accept the user's first and last name and then getting them printed in the the reverse order with a space between first name and last name"
   ]
  },
  {
   "cell_type": "code",
   "execution_count": 9,
   "metadata": {},
   "outputs": [
    {
     "name": "stdout",
     "output_type": "stream",
     "text": [
      "Your first name:fuck\n",
      "Your last name:you\n",
      "you fuck\n"
     ]
    }
   ],
   "source": [
    "def reverseyourname():\n",
    "    firstname = input('Your first name:')\n",
    "    lastname = input('Your last name:')\n",
    "    output = lastname + ' ' + firstname\n",
    "    print(output)\n",
    "reverseyourname()\n",
    "    "
   ]
  },
  {
   "cell_type": "markdown",
   "metadata": {},
   "source": [
    "3.Write a Python program to find the volume of a sphere with diameter 12 cm.  \n",
    " \n",
    "Formula: V=4/3 * π * r 3 "
   ]
  },
  {
   "cell_type": "code",
   "execution_count": 14,
   "metadata": {},
   "outputs": [
    {
     "name": "stdout",
     "output_type": "stream",
     "text": [
      "Volume is : 904.7786842338603\n"
     ]
    }
   ],
   "source": [
    "import numpy as np\n",
    "def findvolume(d):\n",
    "    r = d/2\n",
    "    volume = (4/3)*np.pi*(r**3)\n",
    "    print('Volume is : {}'.format(volume))\n",
    "findvolume(12)"
   ]
  },
  {
   "cell_type": "markdown",
   "metadata": {},
   "source": [
    "4.Write a program which accepts a sequence of comma-separated numbers from console and generate a list. "
   ]
  },
  {
   "cell_type": "code",
   "execution_count": 16,
   "metadata": {},
   "outputs": [
    {
     "name": "stdout",
     "output_type": "stream",
     "text": [
      "Insert comma-separated numbers: 2,2,2,2,3\n",
      "['2', '2', '2', '2', '3']\n"
     ]
    }
   ],
   "source": [
    "def fuck():\n",
    "    numbers = input('Insert comma-separated numbers: ')\n",
    "    list1 = list(numbers)\n",
    "    for item in list1:\n",
    "        if item == ',':\n",
    "            list1.remove(item)\n",
    "    print(list1)\n",
    "\n",
    "fuck()"
   ]
  },
  {
   "cell_type": "raw",
   "metadata": {},
   "source": [
    "5. Create the below pattern using nested for loop in Python. \n",
    " \n",
    " \n",
    "*  \n",
    "* *  \n",
    "* * * \n",
    "* * * *  \n",
    "* * * * *  \n",
    "* * * *  \n",
    "* * *  \n",
    "* *  \n",
    "* \n",
    " \n",
    " "
   ]
  },
  {
   "cell_type": "code",
   "execution_count": 18,
   "metadata": {},
   "outputs": [
    {
     "name": "stdout",
     "output_type": "stream",
     "text": [
      "Program to print start pattern: \n",
      "\n",
      "Enter max star to be display on single line5\n",
      "* \n",
      "* * \n",
      "* * * \n",
      "* * * * \n",
      "* * * * * \n",
      "* * * * \n",
      "* * * \n",
      "* * \n",
      "* \n",
      "\n"
     ]
    }
   ],
   "source": [
    "print(\"Program to print start pattern: \\n\");\n",
    "\n",
    "rows = input(\"Enter max star to be display on single line\")\n",
    "rows = int (rows)\n",
    "for i in range (0, rows):\n",
    "    for j in range(0, i + 1):\n",
    "        print(\"*\", end=' ')\n",
    "    print(\"\\r\")\n",
    "\n",
    "for i in range (rows, 0, -1):\n",
    "    for j in range(0, i -1):\n",
    "        print(\"*\", end=' ')\n",
    "    print(\"\\r\")"
   ]
  },
  {
   "cell_type": "markdown",
   "metadata": {},
   "source": [
    "6. Write a Python program to reverse a word after accepting the input from the user. \n",
    " \n",
    "Sample Output: \n",
    " \n",
    "Input word: iNeuron \n",
    " \n",
    "Output: norueNi"
   ]
  },
  {
   "cell_type": "code",
   "execution_count": 17,
   "metadata": {},
   "outputs": [
    {
     "name": "stdout",
     "output_type": "stream",
     "text": [
      "Write your word: fuckyou\n",
      "uoykcuf\n"
     ]
    }
   ],
   "source": [
    "def reverseagain():\n",
    "    word = input('Write your word: ')\n",
    "    newoutput = word[::-1]\n",
    "    print(newoutput)\n",
    "\n",
    "reverseagain()\n",
    "    "
   ]
  },
  {
   "cell_type": "markdown",
   "metadata": {},
   "source": [
    "7. Write a Python Program to print the given string in the format specified in the ​sample output. \n",
    " WE, THE PEOPLE OF INDIA, having solemnly resolved to constitute India into a SOVEREIGN, SOCIALIST, SECULAR, DEMOCRATIC REPUBLIC and to secure to all its citizens \n",
    " \n",
    "Sample Output: \n",
    " \n",
    "WE, THE PEOPLE OF INDIA,   having solemnly resolved to constitute India into a SOVEREIGN, !  SOCIALIST, SECULAR, DEMOCRATIC REPUBLIC    and to secure to all its citizens "
   ]
  },
  {
   "cell_type": "code",
   "execution_count": 25,
   "metadata": {},
   "outputs": [
    {
     "name": "stdout",
     "output_type": "stream",
     "text": [
      "WE, THE PEOPLE OF INDIA, having solemnly resolved to constitue India into a SOVEREIGN, ! SOCIALIST, SECULAR, DEMORACTIC REPUBLIC and to secure to all its citizens\n"
     ]
    }
   ],
   "source": [
    "def change(sentence):\n",
    "    index = sentence.find('SOCIALIST') \n",
    "    newsentence = sentence[0:index-1] + ' ! ' + sentence[index:]\n",
    "    print(newsentence)\n",
    "\n",
    "change('WE, THE PEOPLE OF INDIA, having solemnly resolved to constitue India into a SOVEREIGN, SOCIALIST, SECULAR, DEMORACTIC REPUBLIC and to secure to all its citizens')"
   ]
  },
  {
   "cell_type": "code",
   "execution_count": null,
   "metadata": {},
   "outputs": [],
   "source": []
  },
  {
   "cell_type": "markdown",
   "metadata": {},
   "source": [
    "Note : - NOTE:​ ​The​ ​solution​ ​shared​ ​through​ ​Github​ ​should​ ​contain​ ​the​ ​source code​ ​used​ ​ and​  ​the​ ​output"
   ]
  },
  {
   "cell_type": "code",
   "execution_count": null,
   "metadata": {},
   "outputs": [],
   "source": [
    "# okay bro easy job"
   ]
  }
 ],
 "metadata": {
  "kernelspec": {
   "display_name": "Python 3",
   "language": "python",
   "name": "python3"
  },
  "language_info": {
   "codemirror_mode": {
    "name": "ipython",
    "version": 3
   },
   "file_extension": ".py",
   "mimetype": "text/x-python",
   "name": "python",
   "nbconvert_exporter": "python",
   "pygments_lexer": "ipython3",
   "version": "3.7.4"
  }
 },
 "nbformat": 4,
 "nbformat_minor": 2
}
